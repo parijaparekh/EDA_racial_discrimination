{
 "cells": [
  {
   "cell_type": "markdown",
   "metadata": {},
   "source": [
    "# Examining Racial Discrimination in the US Job Market\n",
    "\n",
    "### Background\n",
    "Racial discrimination continues to be pervasive in cultures throughout the world. Researchers examined the level of racial discrimination in the United States labor market by randomly assigning identical résumés to black-sounding or white-sounding names and observing the impact on requests for interviews from employers.\n",
    "\n",
    "### Data\n",
    "In the dataset provided, each row represents a resume. The 'race' column has two values, 'b' and 'w', indicating black-sounding and white-sounding. The column 'call' has two values, 1 and 0, indicating whether the resume received a call from employers or not.\n",
    "\n",
    "Note that the 'b' and 'w' values in race are assigned randomly to the resumes when presented to the employer."
   ]
  },
  {
   "cell_type": "markdown",
   "metadata": {},
   "source": [
    "### Exercises\n",
    "You will perform a statistical analysis to establish whether race has a significant impact on the rate of callbacks for resumes.\n",
    "\n",
    "Answer the following questions **in this notebook below and submit to your Github account**. \n",
    "\n",
    "   1. What test is appropriate for this problem? Does CLT apply?\n",
    "   2. What are the null and alternate hypotheses?\n",
    "   3. Compute margin of error --> same as margin of error, confidence interval, and p-value. Try using both the bootstrapping and the frequentist statistical approaches.\n",
    "   4. Write a story describing the statistical significance in the context or the original problem.\n",
    "   5. Does your analysis mean that race/name is the most important factor in callback success? Why or why not? If not, how would you amend your analysis?\n",
    "\n",
    "You can include written notes in notebook cells using Markdown: \n",
    "   - In the control panel at the top, choose Cell > Cell Type > Markdown\n",
    "   - Markdown syntax: http://nestacms.com/docs/creating-content/markdown-cheat-sheet\n",
    "\n",
    "#### Resources\n",
    "+ Experiment information and data source: http://www.povertyactionlab.org/evaluation/discrimination-job-market-united-states\n",
    "+ Scipy statistical methods: http://docs.scipy.org/doc/scipy/reference/stats.html \n",
    "+ Markdown syntax: http://nestacms.com/docs/creating-content/markdown-cheat-sheet\n",
    "+ Formulas for the Bernoulli distribution: https://en.wikipedia.org/wiki/Bernoulli_distribution"
   ]
  },
  {
   "cell_type": "code",
   "execution_count": 56,
   "metadata": {
    "ExecuteTime": {
     "end_time": "2019-06-24T09:51:54.421616Z",
     "start_time": "2019-06-24T09:51:54.409341Z"
    }
   },
   "outputs": [],
   "source": [
    "import pandas as pd\n",
    "import numpy as np\n",
    "from scipy import stats"
   ]
  },
  {
   "cell_type": "code",
   "execution_count": 57,
   "metadata": {
    "ExecuteTime": {
     "end_time": "2019-06-24T09:51:54.668404Z",
     "start_time": "2019-06-24T09:51:54.425163Z"
    }
   },
   "outputs": [],
   "source": [
    "data = pd.io.stata.read_stata('data/us_job_market_discrimination.dta')"
   ]
  },
  {
   "cell_type": "code",
   "execution_count": 58,
   "metadata": {
    "ExecuteTime": {
     "end_time": "2019-06-24T09:51:54.686241Z",
     "start_time": "2019-06-24T09:51:54.671557Z"
    },
    "scrolled": true
   },
   "outputs": [
    {
     "data": {
      "text/plain": [
       "235.0"
      ]
     },
     "execution_count": 58,
     "metadata": {},
     "output_type": "execute_result"
    }
   ],
   "source": [
    "# number of callbacks for black-sounding names\n",
    "sum(data[data.race=='w'].call)"
   ]
  },
  {
   "cell_type": "code",
   "execution_count": 59,
   "metadata": {
    "ExecuteTime": {
     "end_time": "2019-06-24T09:51:54.713787Z",
     "start_time": "2019-06-24T09:51:54.688317Z"
    },
    "scrolled": true
   },
   "outputs": [
    {
     "data": {
      "text/html": [
       "<div>\n",
       "<style scoped>\n",
       "    .dataframe tbody tr th:only-of-type {\n",
       "        vertical-align: middle;\n",
       "    }\n",
       "\n",
       "    .dataframe tbody tr th {\n",
       "        vertical-align: top;\n",
       "    }\n",
       "\n",
       "    .dataframe thead th {\n",
       "        text-align: right;\n",
       "    }\n",
       "</style>\n",
       "<table border=\"1\" class=\"dataframe\">\n",
       "  <thead>\n",
       "    <tr style=\"text-align: right;\">\n",
       "      <th></th>\n",
       "      <th>id</th>\n",
       "      <th>ad</th>\n",
       "      <th>education</th>\n",
       "      <th>ofjobs</th>\n",
       "      <th>yearsexp</th>\n",
       "      <th>honors</th>\n",
       "      <th>volunteer</th>\n",
       "      <th>military</th>\n",
       "      <th>empholes</th>\n",
       "      <th>occupspecific</th>\n",
       "      <th>...</th>\n",
       "      <th>compreq</th>\n",
       "      <th>orgreq</th>\n",
       "      <th>manuf</th>\n",
       "      <th>transcom</th>\n",
       "      <th>bankreal</th>\n",
       "      <th>trade</th>\n",
       "      <th>busservice</th>\n",
       "      <th>othservice</th>\n",
       "      <th>missind</th>\n",
       "      <th>ownership</th>\n",
       "    </tr>\n",
       "  </thead>\n",
       "  <tbody>\n",
       "    <tr>\n",
       "      <th>0</th>\n",
       "      <td>b</td>\n",
       "      <td>1</td>\n",
       "      <td>4</td>\n",
       "      <td>2</td>\n",
       "      <td>6</td>\n",
       "      <td>0</td>\n",
       "      <td>0</td>\n",
       "      <td>0</td>\n",
       "      <td>1</td>\n",
       "      <td>17</td>\n",
       "      <td>...</td>\n",
       "      <td>1.0</td>\n",
       "      <td>0.0</td>\n",
       "      <td>1.0</td>\n",
       "      <td>0.0</td>\n",
       "      <td>0.0</td>\n",
       "      <td>0.0</td>\n",
       "      <td>0.0</td>\n",
       "      <td>0.0</td>\n",
       "      <td>0.0</td>\n",
       "      <td></td>\n",
       "    </tr>\n",
       "    <tr>\n",
       "      <th>1</th>\n",
       "      <td>b</td>\n",
       "      <td>1</td>\n",
       "      <td>3</td>\n",
       "      <td>3</td>\n",
       "      <td>6</td>\n",
       "      <td>0</td>\n",
       "      <td>1</td>\n",
       "      <td>1</td>\n",
       "      <td>0</td>\n",
       "      <td>316</td>\n",
       "      <td>...</td>\n",
       "      <td>1.0</td>\n",
       "      <td>0.0</td>\n",
       "      <td>1.0</td>\n",
       "      <td>0.0</td>\n",
       "      <td>0.0</td>\n",
       "      <td>0.0</td>\n",
       "      <td>0.0</td>\n",
       "      <td>0.0</td>\n",
       "      <td>0.0</td>\n",
       "      <td></td>\n",
       "    </tr>\n",
       "    <tr>\n",
       "      <th>2</th>\n",
       "      <td>b</td>\n",
       "      <td>1</td>\n",
       "      <td>4</td>\n",
       "      <td>1</td>\n",
       "      <td>6</td>\n",
       "      <td>0</td>\n",
       "      <td>0</td>\n",
       "      <td>0</td>\n",
       "      <td>0</td>\n",
       "      <td>19</td>\n",
       "      <td>...</td>\n",
       "      <td>1.0</td>\n",
       "      <td>0.0</td>\n",
       "      <td>1.0</td>\n",
       "      <td>0.0</td>\n",
       "      <td>0.0</td>\n",
       "      <td>0.0</td>\n",
       "      <td>0.0</td>\n",
       "      <td>0.0</td>\n",
       "      <td>0.0</td>\n",
       "      <td></td>\n",
       "    </tr>\n",
       "    <tr>\n",
       "      <th>3</th>\n",
       "      <td>b</td>\n",
       "      <td>1</td>\n",
       "      <td>3</td>\n",
       "      <td>4</td>\n",
       "      <td>6</td>\n",
       "      <td>0</td>\n",
       "      <td>1</td>\n",
       "      <td>0</td>\n",
       "      <td>1</td>\n",
       "      <td>313</td>\n",
       "      <td>...</td>\n",
       "      <td>1.0</td>\n",
       "      <td>0.0</td>\n",
       "      <td>1.0</td>\n",
       "      <td>0.0</td>\n",
       "      <td>0.0</td>\n",
       "      <td>0.0</td>\n",
       "      <td>0.0</td>\n",
       "      <td>0.0</td>\n",
       "      <td>0.0</td>\n",
       "      <td></td>\n",
       "    </tr>\n",
       "    <tr>\n",
       "      <th>4</th>\n",
       "      <td>b</td>\n",
       "      <td>1</td>\n",
       "      <td>3</td>\n",
       "      <td>3</td>\n",
       "      <td>22</td>\n",
       "      <td>0</td>\n",
       "      <td>0</td>\n",
       "      <td>0</td>\n",
       "      <td>0</td>\n",
       "      <td>313</td>\n",
       "      <td>...</td>\n",
       "      <td>1.0</td>\n",
       "      <td>1.0</td>\n",
       "      <td>0.0</td>\n",
       "      <td>0.0</td>\n",
       "      <td>0.0</td>\n",
       "      <td>0.0</td>\n",
       "      <td>0.0</td>\n",
       "      <td>1.0</td>\n",
       "      <td>0.0</td>\n",
       "      <td>Nonprofit</td>\n",
       "    </tr>\n",
       "  </tbody>\n",
       "</table>\n",
       "<p>5 rows × 65 columns</p>\n",
       "</div>"
      ],
      "text/plain": [
       "  id ad  education  ofjobs  yearsexp  honors  volunteer  military  empholes  \\\n",
       "0  b  1          4       2         6       0          0         0         1   \n",
       "1  b  1          3       3         6       0          1         1         0   \n",
       "2  b  1          4       1         6       0          0         0         0   \n",
       "3  b  1          3       4         6       0          1         0         1   \n",
       "4  b  1          3       3        22       0          0         0         0   \n",
       "\n",
       "   occupspecific  ...  compreq  orgreq  manuf  transcom  bankreal trade  \\\n",
       "0             17  ...      1.0     0.0    1.0       0.0       0.0   0.0   \n",
       "1            316  ...      1.0     0.0    1.0       0.0       0.0   0.0   \n",
       "2             19  ...      1.0     0.0    1.0       0.0       0.0   0.0   \n",
       "3            313  ...      1.0     0.0    1.0       0.0       0.0   0.0   \n",
       "4            313  ...      1.0     1.0    0.0       0.0       0.0   0.0   \n",
       "\n",
       "  busservice othservice  missind  ownership  \n",
       "0        0.0        0.0      0.0             \n",
       "1        0.0        0.0      0.0             \n",
       "2        0.0        0.0      0.0             \n",
       "3        0.0        0.0      0.0             \n",
       "4        0.0        1.0      0.0  Nonprofit  \n",
       "\n",
       "[5 rows x 65 columns]"
      ]
     },
     "execution_count": 59,
     "metadata": {},
     "output_type": "execute_result"
    }
   ],
   "source": [
    "data.head()"
   ]
  },
  {
   "cell_type": "markdown",
   "metadata": {},
   "source": [
    "### Q1\n",
    "What test is appropriate for this problem? Does CLT apply?"
   ]
  },
  {
   "cell_type": "markdown",
   "metadata": {
    "collapsed": true
   },
   "source": [
    "This is a case of two independant sample test.  \n",
    "A permuatation based bootstrapping test is most appropriate for this problem.\n",
    "We can decide on a test statistic and can calculate the p-value from the permuted botstraped samples. \n",
    "The p-value shall help us to decide whether the samples are identically distributed or not. \n",
    "\n",
    "Central Limit Theorem(CLT) can be applied to any dataset irrespective of the underlying distribution. \n",
    "So yes CLT can be applied. "
   ]
  },
  {
   "cell_type": "markdown",
   "metadata": {},
   "source": [
    "### Q2. \n",
    "What are the null and alternate hypotheses?"
   ]
  },
  {
   "cell_type": "markdown",
   "metadata": {
    "heading_collapsed": true
   },
   "source": [
    "#### Null Hypothesis: \n",
    "    Race has no significance on the rate of callbacks for the resumes.\n",
    "    \n",
    "#### Alternate Hypothesis:\n",
    "    Race has significance on the rate of callbacks for the resumes.\n",
    "    \n",
    "#### Test Statistic: \n",
    "    Fraction of callbacks to the black community to the total number of resumes received. \n",
    "    "
   ]
  },
  {
   "cell_type": "markdown",
   "metadata": {
    "collapsed": true
   },
   "source": [
    "### Q3 \n",
    "Compute margin of error --> same as margin of error, confidence interval, and p-value. \n",
    "Try using both the bootstrapping and the frequentist statistical approaches."
   ]
  },
  {
   "cell_type": "code",
   "execution_count": 60,
   "metadata": {
    "ExecuteTime": {
     "end_time": "2019-06-24T09:51:54.727801Z",
     "start_time": "2019-06-24T09:51:54.715306Z"
    }
   },
   "outputs": [],
   "source": [
    "w = data[data.race=='w']\n",
    "b = data[data.race=='b']\n"
   ]
  },
  {
   "cell_type": "markdown",
   "metadata": {},
   "source": [
    "#### Bootstrapping Approach: "
   ]
  },
  {
   "cell_type": "markdown",
   "metadata": {},
   "source": [
    "##### Hypothesis Testing:"
   ]
  },
  {
   "cell_type": "code",
   "execution_count": 70,
   "metadata": {
    "ExecuteTime": {
     "end_time": "2019-06-24T09:57:34.402743Z",
     "start_time": "2019-06-24T09:57:31.074388Z"
    },
    "scrolled": true
   },
   "outputs": [
    {
     "name": "stdout",
     "output_type": "stream",
     "text": [
      "p_value: 0\n",
      "We reject the Null at 95% significance level.\n",
      "Hence the black and white samples are not identical and Race has significance on the rate of callbacks\n"
     ]
    }
   ],
   "source": [
    "def fract_b_yea(w, b):\n",
    "    frac = np.sum(b) / (len(w) + len(b))\n",
    "    return frac\n",
    "\n",
    "def draw_perm_reps(x, y, func, size= 1):\n",
    "    total = pd.concat([x,y])\n",
    "    perm_reps_hypo = np.empty(size)\n",
    "    perm_reps      = np.empty(size)\n",
    "    \n",
    "    for i in range(size):\n",
    "        total_perm = np.random.permutation(total)\n",
    "        x_perm = total_perm[:len(x)]\n",
    "        y_perm = total_perm[len(x):]\n",
    "        perm_reps_hypo[i] = func(x_perm, y_perm)\n",
    "        perm_reps[i]      = x_perm.mean() - y_perm.mean()\n",
    "        \n",
    "    return perm_reps_hypo, perm_reps\n",
    "\n",
    "\n",
    "perm_reps_hypo, perm_reps = draw_perm_reps(w['call'], b['call'], fract_b_yea, 10000)\n",
    "p_value = np.sum(perm_reps_hypo <= np.sum(b['call'])/(len(w) + len(b)))\n",
    "#print(np.sum(b['call'])/(len(w['call'])+len(b['call'])))\n",
    "print(f'p_value: {p_value}')\n",
    "if p_value < 0.05:\n",
    "    print(\"We reject the Null at 95% significance level.\\nHence the black and white samples are not identical and Race has significance on the rate of callbacks\")\n",
    "else:\n",
    "    print(\"We accept the Null at 95% significance level.\\nHence the black and white samples are identical and Race has no significance on the rate of callbacks\")"
   ]
  },
  {
   "cell_type": "markdown",
   "metadata": {},
   "source": [
    "##### Confidence Interval:"
   ]
  },
  {
   "cell_type": "code",
   "execution_count": 71,
   "metadata": {
    "ExecuteTime": {
     "end_time": "2019-06-24T09:57:39.391986Z",
     "start_time": "2019-06-24T09:57:39.387803Z"
    }
   },
   "outputs": [
    {
     "name": "stdout",
     "output_type": "stream",
     "text": [
      "Confidence Interval: [-0.01560576  0.01560576]\n"
     ]
    }
   ],
   "source": [
    "ci = np.percentile(perm_reps, [2.5,97.5])\n",
    "print(f'Confidence Interval: {ci}')"
   ]
  },
  {
   "cell_type": "markdown",
   "metadata": {
    "ExecuteTime": {
     "end_time": "2019-06-24T05:00:01.764958Z",
     "start_time": "2019-06-24T05:00:01.761778Z"
    }
   },
   "source": [
    "##### Margin of Error"
   ]
  },
  {
   "cell_type": "code",
   "execution_count": 72,
   "metadata": {
    "ExecuteTime": {
     "end_time": "2019-06-24T09:57:50.324774Z",
     "start_time": "2019-06-24T09:57:50.320988Z"
    }
   },
   "outputs": [
    {
     "name": "stdout",
     "output_type": "stream",
     "text": [
      "Margin of Error: 0.015605755150318146\n"
     ]
    }
   ],
   "source": [
    "me = (ci[1] - ci[0])/2\n",
    "print(f'Margin of Error: {me}')"
   ]
  },
  {
   "cell_type": "markdown",
   "metadata": {
    "ExecuteTime": {
     "end_time": "2019-06-24T01:22:08.359669Z",
     "start_time": "2019-06-24T01:22:08.355864Z"
    }
   },
   "source": [
    "#### Frequentist Approach"
   ]
  },
  {
   "cell_type": "markdown",
   "metadata": {},
   "source": [
    "##### Hypothesis Testing:\n",
    "\n",
    "###### This is a case of two independant sample test with same sample size. \n",
    "Standard Error = $\\sqrt{\\frac{S1^2}{n1} + \\frac{S2^2}{n2}}\\$\n",
    "\n",
    "###### Null Hypothesis:\n",
    "Race has no significance on the rate of callbacks for the resumes.\n",
    "\n",
    "###### Considerations: \n",
    "- Check if both the samples of black as well as white are identically distributed. \n",
    "  Hence the difference in their means is zero\n",
    "- We check for 95% significance level. Hence $\\alpha$ = 0.05\n",
    "- We condider it be a two tailed test. "
   ]
  },
  {
   "cell_type": "code",
   "execution_count": 73,
   "metadata": {
    "ExecuteTime": {
     "end_time": "2019-06-24T10:11:40.386843Z",
     "start_time": "2019-06-24T10:11:40.379693Z"
    }
   },
   "outputs": [
    {
     "name": "stdout",
     "output_type": "stream",
     "text": [
      "4.115583422082968\n",
      "We reject the Null at 95% significance level.\n",
      "Hence the black and white samples are not identical and Race has significance on the rate of callbacks\n"
     ]
    }
   ],
   "source": [
    "s1 = np.std(w['call'])\n",
    "s2 = np.std(b['call'])\n",
    "n  = len(w['call'])\n",
    "x1 = np.mean(w['call'])\n",
    "x2 = np.mean(b['call'])\n",
    "\n",
    "\n",
    "se = np.sqrt(s1**2/n + s2**2/n)\n",
    "\n",
    "z = (x1 - x2 - 0)/se \n",
    "z_critical = 1.96\n",
    "\n",
    "print(z)\n",
    "\n",
    "if z > z_critical or z < -z_critical:\n",
    "    print(\"We reject the Null at 95% significance level.\\nHence the black and white samples are not identical and Race has significance on the rate of callbacks\")\n",
    "else:\n",
    "    print(\"We accept the Null at 95% significance level.\\nHence the black and white samples are identical and Race has no significance on the rate of callbacks\")"
   ]
  },
  {
   "cell_type": "markdown",
   "metadata": {},
   "source": [
    "##### Calculating the Confidence interval:\n",
    "${\\mu \\pm z_* * Standard Error}$ \n",
    "\n",
    "- $\\mu$ ---> $\\mu_1 - \\mu_2$\n",
    "- For 95% confidence level ---> $z_* = 1.96$"
   ]
  },
  {
   "cell_type": "code",
   "execution_count": 65,
   "metadata": {
    "ExecuteTime": {
     "end_time": "2019-06-24T09:51:57.759667Z",
     "start_time": "2019-06-24T09:51:57.755881Z"
    }
   },
   "outputs": [
    {
     "name": "stdout",
     "output_type": "stream",
     "text": [
      "Confidence Interval - [0.016777570469610682, 0.04728813924051047]\n"
     ]
    }
   ],
   "source": [
    "ci_upper = (x1 - x2) + 1.96*se\n",
    "ci_lower = (x1 - x2) - 1.96*se\n",
    "print(f'Confidence Interval - [{ci_lower}, {ci_upper}]')"
   ]
  },
  {
   "cell_type": "markdown",
   "metadata": {},
   "source": [
    "##### Margin of Error"
   ]
  },
  {
   "cell_type": "code",
   "execution_count": 66,
   "metadata": {
    "ExecuteTime": {
     "end_time": "2019-06-24T09:51:57.764640Z",
     "start_time": "2019-06-24T09:51:57.761369Z"
    }
   },
   "outputs": [
    {
     "name": "stdout",
     "output_type": "stream",
     "text": [
      "Margin of Error: 0.015255284385449895\n"
     ]
    }
   ],
   "source": [
    "me = (ci_upper - ci_lower)/2\n",
    "print(f'Margin of Error: {me}')"
   ]
  },
  {
   "cell_type": "markdown",
   "metadata": {},
   "source": [
    "### Q4\n",
    "Write a story describing the statistical significance in the context or the original problem.\n",
    " "
   ]
  },
  {
   "cell_type": "markdown",
   "metadata": {
    "ExecuteTime": {
     "end_time": "2019-06-24T10:16:05.927607Z",
     "start_time": "2019-06-24T10:16:05.921842Z"
    }
   },
   "source": [
    "By bootatrapping technique, we get the p_value as 0.0.\n",
    "This suggests that there is 0% likelihood that the fraction of black calls are by chance. \n",
    "Hence we can reject the null and accept the alternate hypothesis. \n",
    "\n",
    "By frequentist technique, the z-score calculated is 4.16. \n",
    "This is higher than 1.96 which is our z_critical value for a two tailed test. \n",
    "The z-score > z_critical indicates that difference of mean lies way ahead of 1.96*standard error. \n",
    "Hence the distributions are not identical and we can conculde that alternate hypothesis is true. "
   ]
  },
  {
   "cell_type": "markdown",
   "metadata": {},
   "source": [
    "### Q5\n",
    "Does your analysis mean that race/name is the most important factor in callback success? Why or why not? If not, how would you amend your analysis?"
   ]
  },
  {
   "cell_type": "markdown",
   "metadata": {
    "ExecuteTime": {
     "end_time": "2019-06-24T05:20:12.661077Z",
     "start_time": "2019-06-24T05:20:12.656458Z"
    }
   },
   "source": [
    "Yes Race/Name is a very important factor for callback success as per the data provided and the analysis done. \n",
    "The sample has 2435 resumes marked as black names and 2435 resumes marked as white names.  \n",
    "Off 4870 candidates only 392 received a callback.\n",
    "Almost 60% of white candidates received a callback whereas only 40% of black candidates received a callback. "
   ]
  },
  {
   "cell_type": "code",
   "execution_count": 69,
   "metadata": {
    "ExecuteTime": {
     "end_time": "2019-06-24T09:53:10.735578Z",
     "start_time": "2019-06-24T09:53:10.726285Z"
    }
   },
   "outputs": [
    {
     "name": "stdout",
     "output_type": "stream",
     "text": [
      "0.4005102\n",
      "0.5994898\n",
      "392.0 235.0 157.0\n",
      "2435 2435\n"
     ]
    }
   ],
   "source": [
    "## Calculations for above: \n",
    "print(np.sum(b['call']) / (np.sum(w['call']) + np.sum(b['call'])))\n",
    "print(np.sum(w['call']) / (np.sum(w['call']) + np.sum(b['call'])))\n",
    "print(np.sum(w['call']) + np.sum(b['call']), np.sum(w['call']), np.sum(b['call']))\n",
    "print(len(w['call']), len(b['call']))"
   ]
  },
  {
   "cell_type": "code",
   "execution_count": null,
   "metadata": {},
   "outputs": [],
   "source": []
  },
  {
   "cell_type": "code",
   "execution_count": null,
   "metadata": {},
   "outputs": [],
   "source": []
  }
 ],
 "metadata": {
  "kernelspec": {
   "display_name": "Python 3",
   "language": "python",
   "name": "python3"
  },
  "language_info": {
   "codemirror_mode": {
    "name": "ipython",
    "version": 3
   },
   "file_extension": ".py",
   "mimetype": "text/x-python",
   "name": "python",
   "nbconvert_exporter": "python",
   "pygments_lexer": "ipython3",
   "version": "3.7.3"
  }
 },
 "nbformat": 4,
 "nbformat_minor": 1
}
